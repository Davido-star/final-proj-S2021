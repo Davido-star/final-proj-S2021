{
 "cells": [
  {
   "cell_type": "markdown",
   "metadata": {},
   "source": [
    "# Learning Python in ArcPro using Notbooks "
   ]
  },
  {
   "cell_type": "code",
   "execution_count": null,
   "metadata": {},
   "outputs": [],
   "source": [
    "\"\"\"\n",
    "David smith \n",
    "python 3 \n",
    "04/06/2021\n",
    "This script was written as a follow along with an arcPro intorduction to python tutorial\n",
    "It takes a folder of feature classes and prints the number of features in each feature class\n",
    "\"\"\""
   ]
  },
  {
   "cell_type": "code",
   "execution_count": 31,
   "metadata": {},
   "outputs": [
    {
     "name": "stdout",
     "output_type": "stream",
     "text": [
      "The ambulances.shp has  48  feature/s\n",
      "The boundary.shp has  1  feature/s\n",
      "The fire_stations.shp has  84  feature/s\n",
      "The fire_zones.shp has  82  feature/s\n",
      "The voting_divisions.shp has  1181  feature/s\n",
      "The voting_sites.shp has  1700  feature/s\n"
     ]
    }
   ],
   "source": [
    "#set the vairable workspace liked to the data folder on the C drive \n",
    "arcpy.env.workspace='C:/PythonStart/PythonStart'\n",
    "fc_list=arcpy.ListFeatureClasses() #creates new list of the feature classes within the data folder \n",
    "#now we want to get a count of the number of features in each feature class\n",
    "#print(fc_list)\n",
    "for fc in fc_list:\n",
    "    count=arcpy.management.GetCount(fc)\n",
    "    print('The',fc,'has ',count,' feature/s')"
   ]
  }
 ],
 "metadata": {
  "kernelspec": {
   "display_name": "ArcGISPro",
   "language": "Python",
   "name": "python3"
  },
  "language_info": {
   "file_extension": ".py",
   "name": "python",
   "version": "3"
  }
 },
 "nbformat": 4,
 "nbformat_minor": 2
}
