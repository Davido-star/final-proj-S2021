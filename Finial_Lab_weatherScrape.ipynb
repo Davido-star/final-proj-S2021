{
  "nbformat": 4,
  "nbformat_minor": 0,
  "metadata": {
    "colab": {
      "name": "Finial_Lab_weatherScrape.ipynb",
      "provenance": [],
      "authorship_tag": "ABX9TyPrag9sgCC6ID+rsJJLYWLc",
      "include_colab_link": true
    },
    "kernelspec": {
      "name": "python3",
      "display_name": "Python 3"
    },
    "language_info": {
      "name": "python"
    }
  },
  "cells": [
    {
      "cell_type": "markdown",
      "metadata": {
        "id": "view-in-github",
        "colab_type": "text"
      },
      "source": [
        "<a href=\"https://colab.research.google.com/github/Davido-star/final-proj-S2021/blob/master/Finial_Lab_weatherScrape.ipynb\" target=\"_parent\"><img src=\"https://colab.research.google.com/assets/colab-badge.svg\" alt=\"Open In Colab\"/></a>"
      ]
    },
    {
      "cell_type": "code",
      "metadata": {
        "colab": {
          "base_uri": "https://localhost:8080/"
        },
        "id": "fni5PD1ShtYg",
        "outputId": "6d12d492-1757-48b4-9f21-183e12bdc9c6"
      },
      "source": [
        "'''\n",
        "David Smith \n",
        "Pythin 3 \n",
        "04/04/2021\n",
        "\n",
        "This script scrapes the 5 day forcast of an input location, using the beautiful soup library.\n",
        "A user is prompted to inout their lat and long coordinates in decimal degress and the scraper does the rest. \n",
        "\n",
        "'''\n",
        "\n",
        "# import required libraries\n",
        "import requests\n",
        "from bs4 import BeautifulSoup\n",
        "\n",
        "# Create an empty list to store response\n",
        "forecast = []\n",
        "\n",
        "## Prompts the user to provide their lat and long of location of interest \n",
        "## Lat/lon in decimal degrees provided for Worcester, MA\n",
        "lat_num = input('Location Latitude Please, in decimal degrees : ')\n",
        "lon_num = input('Location Longitude Please, in decimal degrees : ')\n",
        "lat= str(lat_num)\n",
        "lon= str(lon_num)\n",
        "\n",
        "# Create url for the requested location through string concatenation\n",
        "url = 'https://forecast.weather.gov/MapClick.php?lat='+lat+\"&lon=\"+lon\n",
        "# Check if the URL exists\n",
        "#print(url)\n",
        "\n",
        "# Send request to retrieve the web-page using the get() function from the requests library\n",
        "# The page variable stores the response from the web-page\n",
        "page = requests.get(url)\n",
        "\n",
        "# Create a BeautifulSoup object with the response from the URL\n",
        "# Access contents of the web-page using .content\n",
        "# html_parser is used since our page is in HTML format\n",
        "soup=BeautifulSoup(page.content,\"html.parser\")\n",
        "\n",
        "# Locate elements on page to be scraped\n",
        "# findAll() locates all occurrences of div tag with the given class name\n",
        "# stores it in the BeautifulSoup object\n",
        "weather_forecast = soup.findAll(\"li\", {\"class\": \"forecast-tombstone\"})\n",
        "\n",
        "# Loop through the BeautifulSoup object to extract text text from every class instance using .text\n",
        "# Store results in a list\n",
        "for i in weather_forecast:\n",
        "    i = i.text\n",
        "    forecast.append(i)\n",
        "\n",
        "# Print list to remove unicode characters\n",
        "for day in forecast:\n",
        "  #formats the output to a nice readable format \n",
        "  day=day.replace('ThisAfternoon','This Afternoon')\n",
        "  day=day.replace('SunnyHigh','Sunny, High')\n",
        "  day=day.replace('CloudyLow','Cloudy, Low')\n",
        "  day=day.replace('SunnyHigh','Sunny High')\n",
        "  day=day.replace('ChanceShowersHigh', 'Chance Showers, High')\n",
        "  day=day.replace('ChanceShowersLow','Chance Showers, Low')\n",
        "  day=day.replace('CloudyThen','Cloudy Then')\n",
        "  day=day.replace('ShowersLikelyHigh','Showers Likley, High')\n",
        "  day=day.upper()#converts output to unppercase \n",
        "  print(day)"
      ],
      "execution_count": 26,
      "outputs": [
        {
          "output_type": "stream",
          "text": [
            "Location Latitude Please, in decimal degrees : 42.2626\n",
            "Location Longitude Please, in decimal degrees : -71.8023\n",
            "\n",
            "\n",
            "THIS AFTERNOON\n",
            "MOSTLY SUNNY, HIGH: 65 °F\n",
            "\n",
            "\n",
            "TONIGHT\n",
            "PARTLY CLOUDY, LOW: 43 °F\n",
            "\n",
            "\n",
            "FRIDAY\n",
            "MOSTLY SUNNY, HIGH: 70 °F\n",
            "\n",
            "\n",
            "FRIDAYNIGHT\n",
            "MOSTLY CLOUDY, LOW: 45 °F\n",
            "\n",
            "\n",
            "SATURDAY\n",
            "PARTLY SUNNY, HIGH: 69 °F\n",
            "\n",
            "\n",
            "SATURDAYNIGHT\n",
            "MOSTLY CLOUDY, LOW: 47 °F\n",
            "\n",
            "\n",
            "SUNDAY\n",
            "CHANCE SHOWERS, HIGH: 58 °F\n",
            "\n",
            "\n",
            "SUNDAYNIGHT\n",
            "CHANCE SHOWERS, LOW: 41 °F\n",
            "\n",
            "\n",
            "MONDAY\n",
            "CHANCE SHOWERS, HIGH: 55 °F\n"
          ],
          "name": "stdout"
        }
      ]
    }
  ]
}